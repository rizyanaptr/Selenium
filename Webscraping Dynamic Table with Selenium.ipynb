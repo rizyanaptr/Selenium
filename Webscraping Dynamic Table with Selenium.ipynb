{
 "cells": [
  {
   "cell_type": "markdown",
   "id": "c397bfc4-5348-4dab-8711-b4971c2c33d7",
   "metadata": {},
   "source": [
    "# Web Scraping Panel Harga Pangan Dynamic Table with Selenium"
   ]
  },
  {
   "cell_type": "code",
   "execution_count": 1,
   "id": "f99cd32f-5b0a-43dc-8864-fbe94e361387",
   "metadata": {},
   "outputs": [],
   "source": [
    "from selenium import webdriver\n",
    "from selenium.webdriver.chrome.service import Service\n",
    "from selenium.webdriver.common.by import By\n",
    "from selenium.webdriver.chrome.options import Options\n",
    "import pandas as pd\n",
    "\n",
    "# Set up Selenium WebDriver\n",
    "chrome_options = Options()\n",
    "chrome_options.add_argument(\"--headless\")  # Run in headless mode (no browser window)\n",
    "service = Service('chromedriver-mac-x64/chromedriver') # path\n",
    "driver = webdriver.Chrome(service=service, options=chrome_options)"
   ]
  },
  {
   "cell_type": "code",
   "execution_count": 2,
   "id": "58eec587-46de-45f4-a4b5-b71410f5d7a8",
   "metadata": {},
   "outputs": [
    {
     "name": "stdout",
     "output_type": "stream",
     "text": [
      "<selenium.webdriver.remote.webelement.WebElement (session=\"58e7d24bfdfeb8dd37c092fb0d6838a2\", element=\"f.D00E4E75F7D0970B3C608D50126626F2.d.63F6DAAB1F8D857817DB7717F4EE5591.e.90\")>\n"
     ]
    }
   ],
   "source": [
    "# Fetch the webpage\n",
    "driver.get('https://panelharga.badanpangan.go.id/harga-grosir')\n",
    "\n",
    "# Locate the table\n",
    "table = driver.find_element(By.ID, 'tabelharga-table')\n",
    "print(table)"
   ]
  },
  {
   "cell_type": "code",
   "execution_count": 3,
   "id": "04ceecc5-2056-4991-a6e7-876b75aab2fd",
   "metadata": {},
   "outputs": [
    {
     "name": "stdout",
     "output_type": "stream",
     "text": [
      "['Komoditas (Rp)', '02/08/2024', '03/08/2024', '04/08/2024', '05/08/2024', '06/08/2024', '07/08/2024', '08/08/2024', '09/08/2024']\n"
     ]
    }
   ],
   "source": [
    "header_elements = driver.find_elements(By.XPATH, '//thead/tr/th')\n",
    "\n",
    "# Extract the text from each header element\n",
    "headers = [header.text for header in header_elements]\n",
    "\n",
    "# Print the extracted headers\n",
    "print(headers)"
   ]
  },
  {
   "cell_type": "code",
   "execution_count": 4,
   "id": "91aaa570-2102-4456-bcfa-2d441d5ca0c6",
   "metadata": {},
   "outputs": [
    {
     "name": "stdout",
     "output_type": "stream",
     "text": [
      "['Beras Premium', '14.000', '14.000', '14.000', '14.000', '14.000', '14.000', '14.000', '14.000']\n",
      "['Beras Medium', '13.000', '13.000', '13.000', '13.000', '13.000', '13.000', '13.000', '13.000']\n",
      "['Kedelai Biji Kering (Impor)', '11.000', '11.000', '11.000', '11.000', '11.000', '11.000', '11.000', '11.000']\n",
      "['Bawang Merah', '26.000', '28.000', '28.000', '28.000', '28.000', '28.000', '28.000', '28.000']\n",
      "['Bawang Putih Bonggol', '32.000', '32.000', '32.000', '32.000', '34.000', '32.000', '32.000', '32.000']\n",
      "['Cabai Merah Keriting', '20.000', '20.000', '20.000', '28.000', '28.000', '24.000', '36.000', '36.000']\n",
      "['Daging Ayam Ras', '30.000', '30.000', '30.000', '30.000', '30.000', '30.000', '30.000', '30.000']\n",
      "['Telur Ayam Ras', '24.000', '24.000', '24.000', '24.000', '24.000', '24.000', '24.000', '24.000']\n",
      "['Gula Konsumsi', '15.000', '15.000', '15.000', '15.000', '15.000', '15.000', '15.000', '15.000']\n",
      "['Minyak Goreng Kemasan Sederhana', '16.000', '16.000', '16.000', '16.000', '16.000', '16.000', '16.000', '16.000']\n"
     ]
    }
   ],
   "source": [
    "# Find all the rows within tbody\n",
    "rows = driver.find_elements(By.XPATH, '//tbody/tr')\n",
    "\n",
    "for row in rows:\n",
    "    cells = row.find_elements(By.TAG_NAME, 'td')\n",
    "    cell_texts = [cell.text for cell in cells]\n",
    "    print(cell_texts)"
   ]
  },
  {
   "cell_type": "code",
   "execution_count": 5,
   "id": "f2136d5f-ec0e-4f81-a9bf-33a49f5ade3d",
   "metadata": {},
   "outputs": [],
   "source": [
    "data = []\n",
    "for row in rows:\n",
    "    cells = row.find_elements(By.TAG_NAME, 'td')\n",
    "    row_data = [cell.text for cell in cells]\n",
    "    data.append(row_data)\n",
    "df = pd.DataFrame(data, columns=headers)"
   ]
  },
  {
   "cell_type": "code",
   "execution_count": 6,
   "id": "5b434b51-701c-49d7-990c-ba34ea83f646",
   "metadata": {},
   "outputs": [
    {
     "data": {
      "text/html": [
       "<div>\n",
       "<style scoped>\n",
       "    .dataframe tbody tr th:only-of-type {\n",
       "        vertical-align: middle;\n",
       "    }\n",
       "\n",
       "    .dataframe tbody tr th {\n",
       "        vertical-align: top;\n",
       "    }\n",
       "\n",
       "    .dataframe thead th {\n",
       "        text-align: right;\n",
       "    }\n",
       "</style>\n",
       "<table border=\"1\" class=\"dataframe\">\n",
       "  <thead>\n",
       "    <tr style=\"text-align: right;\">\n",
       "      <th></th>\n",
       "      <th>Komoditas (Rp)</th>\n",
       "      <th>02/08/2024</th>\n",
       "      <th>03/08/2024</th>\n",
       "      <th>04/08/2024</th>\n",
       "      <th>05/08/2024</th>\n",
       "      <th>06/08/2024</th>\n",
       "      <th>07/08/2024</th>\n",
       "      <th>08/08/2024</th>\n",
       "      <th>09/08/2024</th>\n",
       "    </tr>\n",
       "  </thead>\n",
       "  <tbody>\n",
       "    <tr>\n",
       "      <th>0</th>\n",
       "      <td>Beras Premium</td>\n",
       "      <td>14.000</td>\n",
       "      <td>14.000</td>\n",
       "      <td>14.000</td>\n",
       "      <td>14.000</td>\n",
       "      <td>14.000</td>\n",
       "      <td>14.000</td>\n",
       "      <td>14.000</td>\n",
       "      <td>14.000</td>\n",
       "    </tr>\n",
       "    <tr>\n",
       "      <th>1</th>\n",
       "      <td>Beras Medium</td>\n",
       "      <td>13.000</td>\n",
       "      <td>13.000</td>\n",
       "      <td>13.000</td>\n",
       "      <td>13.000</td>\n",
       "      <td>13.000</td>\n",
       "      <td>13.000</td>\n",
       "      <td>13.000</td>\n",
       "      <td>13.000</td>\n",
       "    </tr>\n",
       "    <tr>\n",
       "      <th>2</th>\n",
       "      <td>Kedelai Biji Kering (Impor)</td>\n",
       "      <td>11.000</td>\n",
       "      <td>11.000</td>\n",
       "      <td>11.000</td>\n",
       "      <td>11.000</td>\n",
       "      <td>11.000</td>\n",
       "      <td>11.000</td>\n",
       "      <td>11.000</td>\n",
       "      <td>11.000</td>\n",
       "    </tr>\n",
       "    <tr>\n",
       "      <th>3</th>\n",
       "      <td>Bawang Merah</td>\n",
       "      <td>26.000</td>\n",
       "      <td>28.000</td>\n",
       "      <td>28.000</td>\n",
       "      <td>28.000</td>\n",
       "      <td>28.000</td>\n",
       "      <td>28.000</td>\n",
       "      <td>28.000</td>\n",
       "      <td>28.000</td>\n",
       "    </tr>\n",
       "    <tr>\n",
       "      <th>4</th>\n",
       "      <td>Bawang Putih Bonggol</td>\n",
       "      <td>32.000</td>\n",
       "      <td>32.000</td>\n",
       "      <td>32.000</td>\n",
       "      <td>32.000</td>\n",
       "      <td>34.000</td>\n",
       "      <td>32.000</td>\n",
       "      <td>32.000</td>\n",
       "      <td>32.000</td>\n",
       "    </tr>\n",
       "  </tbody>\n",
       "</table>\n",
       "</div>"
      ],
      "text/plain": [
       "                Komoditas (Rp) 02/08/2024 03/08/2024 04/08/2024 05/08/2024  \\\n",
       "0                Beras Premium     14.000     14.000     14.000     14.000   \n",
       "1                 Beras Medium     13.000     13.000     13.000     13.000   \n",
       "2  Kedelai Biji Kering (Impor)     11.000     11.000     11.000     11.000   \n",
       "3                 Bawang Merah     26.000     28.000     28.000     28.000   \n",
       "4         Bawang Putih Bonggol     32.000     32.000     32.000     32.000   \n",
       "\n",
       "  06/08/2024 07/08/2024 08/08/2024 09/08/2024  \n",
       "0     14.000     14.000     14.000     14.000  \n",
       "1     13.000     13.000     13.000     13.000  \n",
       "2     11.000     11.000     11.000     11.000  \n",
       "3     28.000     28.000     28.000     28.000  \n",
       "4     34.000     32.000     32.000     32.000  "
      ]
     },
     "execution_count": 6,
     "metadata": {},
     "output_type": "execute_result"
    }
   ],
   "source": [
    "df.head()"
   ]
  },
  {
   "cell_type": "code",
   "execution_count": 7,
   "id": "03b4f68f-eb23-4ebb-a538-261e161ddbc8",
   "metadata": {},
   "outputs": [],
   "source": [
    "df.to_csv('data_grosir.csv', index=False)"
   ]
  },
  {
   "cell_type": "code",
   "execution_count": 8,
   "id": "22600600-9157-48ac-b722-615b8b771476",
   "metadata": {},
   "outputs": [],
   "source": [
    "driver.quit()"
   ]
  },
  {
   "cell_type": "markdown",
   "id": "6ec86016-bb62-4512-8594-34069631e0d7",
   "metadata": {},
   "source": [
    "## Scrape Filtered Dynamic Tables"
   ]
  },
  {
   "cell_type": "code",
   "execution_count": 10,
   "id": "98953ea6-4417-4dc9-a605-c286548a7abc",
   "metadata": {},
   "outputs": [],
   "source": [
    "from selenium import webdriver\n",
    "from selenium.webdriver.chrome.service import Service\n",
    "from selenium.webdriver.common.by import By\n",
    "from selenium.webdriver.chrome.options import Options\n",
    "import pandas as pd\n",
    "\n",
    "# Set up Selenium WebDriver\n",
    "chrome_options = Options()\n",
    "chrome_options.add_argument(\"--headless\")  # Run in headless mode (no browser window)\n",
    "service = Service('chromedriver-mac-x64/chromedriver') # path\n",
    "driver = webdriver.Chrome(service=service, options=chrome_options)"
   ]
  },
  {
   "cell_type": "code",
   "execution_count": 13,
   "id": "a918ecb5-9c7d-4c24-beca-ddfca3918134",
   "metadata": {},
   "outputs": [],
   "source": [
    "# Fetch the webpage\n",
    "driver.get('https://panelharga.badanpangan.go.id/harga-grosir')"
   ]
  },
  {
   "cell_type": "code",
   "execution_count": 16,
   "id": "5e5bd79c-4476-440c-9fea-d8db7be75d2d",
   "metadata": {},
   "outputs": [],
   "source": [
    "element = driver.find_element(By.ID, 'provinsi-select')\n",
    "driver.execute_script(\"arguments[0].click();\", element)"
   ]
  },
  {
   "cell_type": "code",
   "execution_count": 24,
   "id": "dcf71167-92b0-42b5-b1b0-956b46b045e8",
   "metadata": {},
   "outputs": [],
   "source": [
    "province_dict = {'Sumatera Utara':'2', 'Sumatera Barat':'3', 'Riau': '4', 'Jambi':'5'}"
   ]
  },
  {
   "cell_type": "code",
   "execution_count": 28,
   "id": "967fc165-acb8-47e9-b195-18ba073492b5",
   "metadata": {},
   "outputs": [],
   "source": [
    "selected_province = driver.find_element(By.XPATH, '//option[@value=\"16\"]')  # 16: Banten Value\n",
    "selected_province.click()"
   ]
  },
  {
   "cell_type": "code",
   "execution_count": 22,
   "id": "4c7890b7-45e7-4c54-8c43-943553270fbb",
   "metadata": {},
   "outputs": [],
   "source": [
    "# Find all the rows within tbody\n",
    "rows = driver.find_elements(By.XPATH, '//tbody/tr')\n",
    "\n",
    "data = []\n",
    "for row in rows:\n",
    "    cells = row.find_elements(By.TAG_NAME, 'td')\n",
    "    row_data = [cell.text for cell in cells]\n",
    "    data.append(row_data)\n",
    "df = pd.DataFrame(data, columns=headers)"
   ]
  },
  {
   "cell_type": "code",
   "execution_count": 25,
   "id": "9c672c13-1d70-4c6c-9fc7-fcce209b95d9",
   "metadata": {},
   "outputs": [
    {
     "data": {
      "text/html": [
       "<div>\n",
       "<style scoped>\n",
       "    .dataframe tbody tr th:only-of-type {\n",
       "        vertical-align: middle;\n",
       "    }\n",
       "\n",
       "    .dataframe tbody tr th {\n",
       "        vertical-align: top;\n",
       "    }\n",
       "\n",
       "    .dataframe thead th {\n",
       "        text-align: right;\n",
       "    }\n",
       "</style>\n",
       "<table border=\"1\" class=\"dataframe\">\n",
       "  <thead>\n",
       "    <tr style=\"text-align: right;\">\n",
       "      <th></th>\n",
       "      <th>Komoditas (Rp)</th>\n",
       "      <th>02/08/2024</th>\n",
       "      <th>03/08/2024</th>\n",
       "      <th>04/08/2024</th>\n",
       "      <th>05/08/2024</th>\n",
       "      <th>06/08/2024</th>\n",
       "      <th>07/08/2024</th>\n",
       "      <th>08/08/2024</th>\n",
       "      <th>09/08/2024</th>\n",
       "    </tr>\n",
       "  </thead>\n",
       "  <tbody>\n",
       "    <tr>\n",
       "      <th>0</th>\n",
       "      <td>Beras Premium</td>\n",
       "      <td>14.240</td>\n",
       "      <td>13.890</td>\n",
       "      <td>13.770</td>\n",
       "      <td>13.810</td>\n",
       "      <td>13.840</td>\n",
       "      <td>13.670</td>\n",
       "      <td>14.000</td>\n",
       "      <td>13.820</td>\n",
       "    </tr>\n",
       "    <tr>\n",
       "      <th>1</th>\n",
       "      <td>Beras Medium</td>\n",
       "      <td>12.230</td>\n",
       "      <td>11.980</td>\n",
       "      <td>11.950</td>\n",
       "      <td>11.950</td>\n",
       "      <td>11.960</td>\n",
       "      <td>12.130</td>\n",
       "      <td>12.110</td>\n",
       "      <td>12.050</td>\n",
       "    </tr>\n",
       "    <tr>\n",
       "      <th>2</th>\n",
       "      <td>Kedelai Biji Kering (Impor)</td>\n",
       "      <td>11.250</td>\n",
       "      <td>10.950</td>\n",
       "      <td>11.310</td>\n",
       "      <td>10.940</td>\n",
       "      <td>10.590</td>\n",
       "      <td>11.210</td>\n",
       "      <td>10.560</td>\n",
       "      <td>11.260</td>\n",
       "    </tr>\n",
       "    <tr>\n",
       "      <th>3</th>\n",
       "      <td>Bawang Merah</td>\n",
       "      <td>19.060</td>\n",
       "      <td>19.660</td>\n",
       "      <td>21.220</td>\n",
       "      <td>19.580</td>\n",
       "      <td>18.590</td>\n",
       "      <td>21.480</td>\n",
       "      <td>19.870</td>\n",
       "      <td>21.330</td>\n",
       "    </tr>\n",
       "    <tr>\n",
       "      <th>4</th>\n",
       "      <td>Bawang Putih Bonggol</td>\n",
       "      <td>33.390</td>\n",
       "      <td>32.660</td>\n",
       "      <td>33.060</td>\n",
       "      <td>33.200</td>\n",
       "      <td>32.100</td>\n",
       "      <td>32.900</td>\n",
       "      <td>33.230</td>\n",
       "      <td>32.660</td>\n",
       "    </tr>\n",
       "  </tbody>\n",
       "</table>\n",
       "</div>"
      ],
      "text/plain": [
       "                Komoditas (Rp) 02/08/2024 03/08/2024 04/08/2024 05/08/2024  \\\n",
       "0                Beras Premium     14.240     13.890     13.770     13.810   \n",
       "1                 Beras Medium     12.230     11.980     11.950     11.950   \n",
       "2  Kedelai Biji Kering (Impor)     11.250     10.950     11.310     10.940   \n",
       "3                 Bawang Merah     19.060     19.660     21.220     19.580   \n",
       "4         Bawang Putih Bonggol     33.390     32.660     33.060     33.200   \n",
       "\n",
       "  06/08/2024 07/08/2024 08/08/2024 09/08/2024  \n",
       "0     13.840     13.670     14.000     13.820  \n",
       "1     11.960     12.130     12.110     12.050  \n",
       "2     10.590     11.210     10.560     11.260  \n",
       "3     18.590     21.480     19.870     21.330  \n",
       "4     32.100     32.900     33.230     32.660  "
      ]
     },
     "execution_count": 25,
     "metadata": {},
     "output_type": "execute_result"
    }
   ],
   "source": [
    "df.head()"
   ]
  }
 ],
 "metadata": {
  "kernelspec": {
   "display_name": "Python 3 (ipykernel)",
   "language": "python",
   "name": "python3"
  },
  "language_info": {
   "codemirror_mode": {
    "name": "ipython",
    "version": 3
   },
   "file_extension": ".py",
   "mimetype": "text/x-python",
   "name": "python",
   "nbconvert_exporter": "python",
   "pygments_lexer": "ipython3",
   "version": "3.11.6"
  }
 },
 "nbformat": 4,
 "nbformat_minor": 5
}
